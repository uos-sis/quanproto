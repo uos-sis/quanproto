{
 "cells": [
  {
   "cell_type": "code",
   "execution_count": null,
   "metadata": {},
   "outputs": [],
   "source": [
    "import os\n",
    "import sys\n",
    "import quanproto.utils.vis_helper as vis_helper\n",
    "import glob\n",
    "from quanproto.utils.workspace import *\n",
    "import quanproto.datasets.config_parser as quan_dataloader"
   ]
  },
  {
   "cell_type": "code",
   "execution_count": null,
   "metadata": {},
   "outputs": [],
   "source": [
    "config = {\n",
    "    \"segmentation_method\": \"sam2\",\n",
    "    \"dataset_dir\": DATASET_DIR,\n",
    "    \"dataset\" : \"cars196\",\n",
    "}"
   ]
  },
  {
   "cell_type": "code",
   "execution_count": null,
   "metadata": {},
   "outputs": [],
   "source": [
    "dataset = quan_dataloader.get_dataset(config[\"dataset_dir\"], config[\"dataset\"])"
   ]
  },
  {
   "cell_type": "code",
   "execution_count": null,
   "metadata": {},
   "outputs": [],
   "source": [
    "# Construct path to sample and mask\n",
    "sample_index = 5234\n",
    "sample_dir = dataset._sample_dir\n",
    "sample_file_name = dataset._sample_names[sample_index]\n",
    "sample_path = os.path.join(sample_dir, sample_file_name)\n",
    "\n",
    "segmentation_dir = os.path.join(dataset._segmentation_dir, config[\"segmentation_method\"])\n",
    "masks_file_names = dataset._segmentation_info[config[\"segmentation_method\"]][sample_index][\"masks\"].values()\n",
    "mask_paths = [ os.path.join(segmentation_dir, sample_file_name[:-4], mask_file_name) for mask_file_name in masks_file_names ]\n",
    "vis_helper.show_mask_over_image(sample_path, mask_paths)"
   ]
  }
 ],
 "metadata": {
  "kernelspec": {
   "display_name": "torch",
   "language": "python",
   "name": "python3"
  },
  "language_info": {
   "codemirror_mode": {
    "name": "ipython",
    "version": 3
   },
   "file_extension": ".py",
   "mimetype": "text/x-python",
   "name": "python",
   "nbconvert_exporter": "python",
   "pygments_lexer": "ipython3",
   "version": "3.12.1"
  }
 },
 "nbformat": 4,
 "nbformat_minor": 2
}
