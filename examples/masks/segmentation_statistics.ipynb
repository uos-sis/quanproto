{
 "cells": [
  {
   "cell_type": "code",
   "execution_count": null,
   "metadata": {},
   "outputs": [],
   "source": [
    "import os\n",
    "from quanproto.utils.workspace import *\n",
    "import quanproto.datasets.config_parser as quan_dataloader\n",
    "from quanproto.utils import vis_helper\n",
    "import skimage.io as io\n",
    "import cv2\n",
    "from quanproto.metrics import helpers as metric_helpers"
   ]
  },
  {
   "cell_type": "code",
   "execution_count": null,
   "metadata": {},
   "outputs": [],
   "source": [
    "config = {\n",
    "    \"segmentation_method\": \"sam\",\n",
    "    \"dataset_dir\": DATASET_DIR,\n",
    "    \"dataset\" : \"cub200\",\n",
    "}\n",
    "dataset = quan_dataloader.get_dataset(config[\"dataset_dir\"], config[\"dataset\"])\n",
    "sample_info = dataset.sample_info()\n",
    "\n",
    "\n",
    "log_dir = os.path.join(EXPERIMENTS_PATH, config[\"dataset\"], config[\"segmentation_method\"])\n",
    "os.makedirs(log_dir, exist_ok=True)"
   ]
  },
  {
   "cell_type": "code",
   "execution_count": null,
   "metadata": {},
   "outputs": [],
   "source": [
    "image_id = 0"
   ]
  },
  {
   "cell_type": "code",
   "execution_count": null,
   "metadata": {},
   "outputs": [],
   "source": [
    "image_path = sample_info[\"paths\"][image_id]\n",
    "image_bb = sample_info[\"bboxes\"][image_id][0]\n",
    "mask_paths = sample_info[\"masks\"][config[\"segmentation_method\"]][\"paths\"][image_id]\n",
    "mask_sizes = sample_info[\"masks\"][config[\"segmentation_method\"]][\"size\"][image_id]\n",
    "mask_bounding_boxes = sample_info[\"masks\"][config[\"segmentation_method\"]][\"bounding_boxes\"][image_id]\n",
    "\n",
    "print(\"Image path: \", image_path)"
   ]
  },
  {
   "cell_type": "code",
   "execution_count": null,
   "metadata": {},
   "outputs": [],
   "source": [
    "\n",
    "mask_id = 2\n",
    "img = io.imread(os.path.join(dataset._segmentation_dir,config[\"segmentation_method\"], mask_paths[mask_id]))"
   ]
  },
  {
   "cell_type": "code",
   "execution_count": null,
   "metadata": {},
   "outputs": [],
   "source": [
    "bb = mask_bounding_boxes[mask_id]\n",
    "vis_helper.save_image_bounding_box(img, bb, os.path.join(log_dir, \"image_bbox.png\"))"
   ]
  }
 ],
 "metadata": {
  "kernelspec": {
   "display_name": "torch",
   "language": "python",
   "name": "python3"
  },
  "language_info": {
   "codemirror_mode": {
    "name": "ipython",
    "version": 3
   },
   "file_extension": ".py",
   "mimetype": "text/x-python",
   "name": "python",
   "nbconvert_exporter": "python",
   "pygments_lexer": "ipython3",
   "version": "3.12.1"
  }
 },
 "nbformat": 4,
 "nbformat_minor": 2
}
