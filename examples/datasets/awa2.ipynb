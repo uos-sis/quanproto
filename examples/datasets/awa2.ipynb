{
 "cells": [
  {
   "cell_type": "markdown",
   "metadata": {},
   "source": [
    "# Animals with Attributes 2"
   ]
  },
  {
   "cell_type": "code",
   "execution_count": null,
   "metadata": {},
   "outputs": [],
   "source": [
    "import os\n",
    "import sys\n",
    "\n",
    "import quanproto.datasets.config_parser as quan_dataloader\n",
    "import matplotlib.pyplot as plt\n",
    "import pandas as pd\n",
    "import numpy as np\n",
    "from quanproto.eda import eda\n",
    "from quanproto.utils.workspace import *"
   ]
  },
  {
   "cell_type": "code",
   "execution_count": null,
   "metadata": {},
   "outputs": [],
   "source": [
    "config = {\n",
    "    \"dataset_dir\": DATASET_DIR,\n",
    "    \"dataset\" : \"awa2\",\n",
    "}\n",
    "\n",
    "figure_height = 5\n",
    "figure_width = 8"
   ]
  },
  {
   "cell_type": "markdown",
   "metadata": {},
   "source": [
    "# Create the Dataset"
   ]
  },
  {
   "cell_type": "code",
   "execution_count": null,
   "metadata": {},
   "outputs": [],
   "source": [
    "dataset = quan_dataloader.get_dataset(config[\"dataset_dir\"], config[\"dataset\"])\n",
    "if not dataset.has_splits():\n",
    "    dataset.split_dataset(k=4, seed=42, shuffle=True, stratified=True, train_size=0.7)\n",
    "test_info = dataset.test_info()\n"
   ]
  },
  {
   "cell_type": "code",
   "execution_count": null,
   "metadata": {},
   "outputs": [],
   "source": [
    "log_dir = os.path.join(WORKSPACE_PATH, \"experiments/awa2/all\")\n",
    "os.makedirs(log_dir, exist_ok=True)\n",
    "\n",
    "sample_labels = np.array(list(dataset.sample_labels().values()))\n",
    "sample_dir = dataset.sample_dir()\n",
    "\n",
    "# Make all image statistics\n",
    "sample_class_labels = np.array(list(dataset.sample_labels().values()))\n",
    "sample_dir = dataset.sample_dir()"
   ]
  },
  {
   "cell_type": "code",
   "execution_count": null,
   "metadata": {},
   "outputs": [],
   "source": [
    "# Class Statistics\n",
    "overview = eda.class_statistics(sample_class_labels)\n",
    "overview"
   ]
  },
  {
   "cell_type": "code",
   "execution_count": null,
   "metadata": {},
   "outputs": [],
   "source": [
    "# Class Distribution\n",
    "counts, labels = eda.class_histogram(sample_class_labels)\n",
    "fig, ax = plt.subplots(figsize=(figure_width, figure_height))\n",
    "ax.plot(labels, counts)\n",
    "plt.show()"
   ]
  },
  {
   "cell_type": "code",
   "execution_count": null,
   "metadata": {},
   "outputs": [],
   "source": [
    "# Image Histograms\n",
    "counts, vals = eda.color_histogram(sample_dir)\n",
    "norm_counts = counts / np.sum(counts, axis=1, keepdims=True)\n",
    "_, ax = plt.subplots(figsize=(figure_width, figure_height))\n",
    "colors = [\"red\", \"green\", \"blue\", \"black\"]\n",
    "labels = [\"Red\", \"Green\", \"Blue\", \"Exposure\"]\n",
    "\n",
    "for i in range(4):\n",
    "    ax.plot(vals, norm_counts[i], color=colors[i], label=labels[i])\n",
    "\n",
    "ax.set_title(\"Color Histograms\")\n",
    "ax.set_xlabel(\"Pixel Value\")\n",
    "ax.set_ylabel(\"Frequency\")\n",
    "ax.legend()\n",
    "plt.show()"
   ]
  },
  {
   "cell_type": "code",
   "execution_count": null,
   "metadata": {},
   "outputs": [],
   "source": [
    "# Image Statistics\n",
    "statistics = eda.color_statistics(counts, vals)\n",
    "statistics"
   ]
  },
  {
   "cell_type": "code",
   "execution_count": null,
   "metadata": {},
   "outputs": [],
   "source": [
    "k = 6010\n",
    "# show an image\n",
    "image = os.path.join(dataset.test_dirs()[\"test\"], test_info[\"paths\"][k])\n",
    "class_name = dataset.class_names()[dataset.sample_labels()[test_info[\"ids\"][k]]]\n",
    "labels = test_info[\"labels\"][k]\n",
    "predicate_names = dataset.predicate_names()\n",
    "rows = [val for i, val in enumerate(predicate_names.values()) if labels[i] == 1]\n",
    "stat = pd.DataFrame(rows, columns=[class_name])\n",
    "print(stat)\n",
    "# save the dataframe as a latex table\n",
    "stat.to_latex(\"zebra.tex\", index=False)\n",
    "\n",
    "fig, ax = plt.subplots(1, 1, figsize=(figure_width, figure_height))\n",
    "ax.imshow(plt.imread(image))\n",
    "# ax.set_title(class_name)\n",
    "ax.axis(\"off\")\n",
    "\n",
    "# show the image\n",
    "plt.tight_layout()"
   ]
  }
 ],
 "metadata": {
  "kernelspec": {
   "display_name": "torch",
   "language": "python",
   "name": "python3"
  },
  "language_info": {
   "codemirror_mode": {
    "name": "ipython",
    "version": 3
   },
   "file_extension": ".py",
   "mimetype": "text/x-python",
   "name": "python",
   "nbconvert_exporter": "python",
   "pygments_lexer": "ipython3",
   "version": "3.12.1"
  }
 },
 "nbformat": 4,
 "nbformat_minor": 2
}
