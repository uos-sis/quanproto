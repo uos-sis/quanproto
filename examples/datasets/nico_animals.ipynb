{
 "cells": [
  {
   "cell_type": "markdown",
   "metadata": {},
   "source": [
    "# NICO Color Distribution"
   ]
  },
  {
   "cell_type": "code",
   "execution_count": null,
   "metadata": {},
   "outputs": [],
   "source": [
    "import os\n",
    "import sys\n",
    "\n",
    "\n",
    "import quanproto.datasets.config_parser as quan_dataloader\n",
    "import matplotlib.pyplot as plt\n",
    "import numpy as np\n",
    "from quanproto.eda import eda\n",
    "from quanproto.utils.workspace import *"
   ]
  },
  {
   "cell_type": "code",
   "execution_count": null,
   "metadata": {},
   "outputs": [],
   "source": [
    "config = {\n",
    "    \"dataset_dir\": DATASET_DIR,\n",
    "    \"dataset\" : \"nico\",\n",
    "}\n",
    "\n",
    "figure_height = 5\n",
    "figure_width = 8"
   ]
  },
  {
   "cell_type": "code",
   "execution_count": null,
   "metadata": {},
   "outputs": [],
   "source": [
    "dataset = quan_dataloader.get_dataset(config[\"dataset_dir\"], config[\"dataset\"])\n",
    "if not dataset.has_splits():\n",
    "    dataset.split_dataset(k=4, seed=42, shuffle=True, stratified=True, train_size=0.7)\n",
    "test_info = dataset.test_info()\n"
   ]
  },
  {
   "cell_type": "code",
   "execution_count": null,
   "metadata": {},
   "outputs": [],
   "source": [
    "log_dir = os.path.join(WORKSPACE_PATH, \"experiments/CUB200/all\")\n",
    "os.makedirs(log_dir, exist_ok=True)\n",
    "\n",
    "sample_labels = np.array(list(dataset.sample_labels().values()))\n",
    "sample_dir = dataset.sample_dir()\n",
    "\n",
    "# Make all image statistics\n",
    "sample_class_labels = np.array(list(dataset.sample_labels().values()))\n",
    "sample_dir = dataset.sample_dir()"
   ]
  },
  {
   "cell_type": "code",
   "execution_count": null,
   "metadata": {},
   "outputs": [],
   "source": [
    "# Class Statistics\n",
    "overview = eda.class_statistics(sample_class_labels)\n",
    "overview"
   ]
  },
  {
   "cell_type": "code",
   "execution_count": null,
   "metadata": {},
   "outputs": [],
   "source": [
    "# Class Distribution\n",
    "counts, labels = eda.class_histogram(sample_class_labels)\n",
    "fig, ax = plt.subplots(figsize=(figure_width, figure_height))\n",
    "ax.plot(labels, counts)\n",
    "plt.show()"
   ]
  },
  {
   "cell_type": "code",
   "execution_count": null,
   "metadata": {},
   "outputs": [],
   "source": [
    "# Image Histograms\n",
    "counts, vals = eda.color_histogram(sample_dir)\n",
    "norm_counts = counts / np.sum(counts, axis=1, keepdims=True)\n",
    "_, ax = plt.subplots(figsize=(figure_width, figure_height))\n",
    "colors = [\"red\", \"green\", \"blue\", \"black\"]\n",
    "labels = [\"Red\", \"Green\", \"Blue\", \"Exposure\"]\n",
    "\n",
    "for i in range(4):\n",
    "    ax.plot(vals, norm_counts[i], color=colors[i], label=labels[i])\n",
    "\n",
    "ax.set_title(\"Color Histograms\")\n",
    "ax.set_xlabel(\"Pixel Value\")\n",
    "ax.set_ylabel(\"Frequency\")\n",
    "ax.legend()\n",
    "plt.show()"
   ]
  },
  {
   "cell_type": "code",
   "execution_count": null,
   "metadata": {},
   "outputs": [],
   "source": [
    "# Image Statistics\n",
    "statistics = eda.color_statistics(counts, vals)\n",
    "statistics"
   ]
  },
  {
   "cell_type": "code",
   "execution_count": null,
   "metadata": {},
   "outputs": [],
   "source": [
    "k = 100\n",
    "# show an image\n",
    "image = os.path.join(dataset.test_dirs()[\"test\"], test_info[\"paths\"][k])\n",
    "label = dataset.class_names()[test_info[\"labels\"][k][0]]\n",
    "# show the image\n",
    "fig, ax = plt.subplots(1, 1, figsize=(10, 5))\n",
    "ax.imshow(plt.imread(image))\n",
    "ax.set_title('Image: {}'.format(label))\n",
    "\n",
    "ax.axis('off')"
   ]
  }
 ],
 "metadata": {
  "kernelspec": {
   "display_name": "torch",
   "language": "python",
   "name": "python3"
  },
  "language_info": {
   "codemirror_mode": {
    "name": "ipython",
    "version": 3
   },
   "file_extension": ".py",
   "mimetype": "text/x-python",
   "name": "python",
   "nbconvert_exporter": "python",
   "pygments_lexer": "ipython3",
   "version": "3.12.1"
  }
 },
 "nbformat": 4,
 "nbformat_minor": 2
}
