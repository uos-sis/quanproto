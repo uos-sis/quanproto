{
 "cells": [
  {
   "cell_type": "markdown",
   "metadata": {},
   "source": [
    "# CUB200"
   ]
  },
  {
   "cell_type": "code",
   "execution_count": null,
   "metadata": {},
   "outputs": [],
   "source": [
    "import os\n",
    "import sys\n",
    "\n",
    "import quanproto.datasets.config_parser as quan_dataloader\n",
    "import matplotlib.pyplot as plt\n",
    "import matplotlib.patches as patches\n",
    "import numpy as np\n",
    "from quanproto.eda import eda\n",
    "from quanproto.utils.workspace import *\n",
    "from quanproto.utils.workspace import DATASET_DIR"
   ]
  },
  {
   "cell_type": "code",
   "execution_count": null,
   "metadata": {},
   "outputs": [],
   "source": [
    "config = {\n",
    "    \"dataset_dir\": DATASET_DIR,\n",
    "    \"dataset\" : \"cub200\",\n",
    "}\n",
    "\n",
    "figure_height = 5\n",
    "figure_width = 8"
   ]
  },
  {
   "cell_type": "markdown",
   "metadata": {},
   "source": [
    "## Create the Dataset"
   ]
  },
  {
   "cell_type": "code",
   "execution_count": null,
   "metadata": {},
   "outputs": [],
   "source": [
    "dataset = quan_dataloader.get_dataset(config[\"dataset_dir\"], config[\"dataset\"])\n",
    "\n",
    "if not dataset.has_splits():\n",
    "    dataset.split_dataset(predefined=True)\n",
    "\n",
    "test_info = dataset.test_info()"
   ]
  },
  {
   "cell_type": "code",
   "execution_count": null,
   "metadata": {},
   "outputs": [],
   "source": [
    "log_dir = os.path.join(WORKSPACE_PATH, \"experiments/cub200/all\")\n",
    "os.makedirs(log_dir, exist_ok=True)\n",
    "\n",
    "sample_labels = np.array(list(dataset.sample_labels().values()))\n",
    "sample_dir = dataset.sample_dir()\n",
    "\n",
    "# Make all image statistics\n",
    "sample_class_labels = np.array(list(dataset.sample_labels().values()))\n",
    "sample_dir = dataset.sample_dir()"
   ]
  },
  {
   "cell_type": "code",
   "execution_count": null,
   "metadata": {},
   "outputs": [],
   "source": [
    "# Class Statistics\n",
    "overview = eda.class_statistics(sample_class_labels)\n",
    "overview"
   ]
  },
  {
   "cell_type": "code",
   "execution_count": null,
   "metadata": {},
   "outputs": [],
   "source": [
    "# Class Distribution\n",
    "counts, labels = eda.class_histogram(sample_class_labels)\n",
    "fig, ax = plt.subplots(figsize=(figure_width, figure_height))\n",
    "ax.plot(labels, counts)\n",
    "plt.show()"
   ]
  },
  {
   "cell_type": "code",
   "execution_count": null,
   "metadata": {},
   "outputs": [],
   "source": [
    "# Image Histograms\n",
    "counts, vals = eda.color_histogram(sample_dir)\n",
    "norm_counts = counts / np.sum(counts, axis=1, keepdims=True)\n",
    "_, ax = plt.subplots(figsize=(figure_width, figure_height))\n",
    "colors = [\"red\", \"green\", \"blue\", \"black\"]\n",
    "labels = [\"Red\", \"Green\", \"Blue\", \"Exposure\"]\n",
    "\n",
    "for i in range(4):\n",
    "    ax.plot(vals, norm_counts[i], color=colors[i], label=labels[i])\n",
    "\n",
    "ax.set_title(\"Color Histograms\")\n",
    "ax.set_xlabel(\"Pixel Value\")\n",
    "ax.set_ylabel(\"Frequency\")\n",
    "ax.legend()\n",
    "plt.show()"
   ]
  },
  {
   "cell_type": "code",
   "execution_count": null,
   "metadata": {},
   "outputs": [],
   "source": [
    "# Image Statistics\n",
    "statistics = eda.color_statistics(counts, vals)\n",
    "statistics"
   ]
  },
  {
   "cell_type": "code",
   "execution_count": null,
   "metadata": {},
   "outputs": [],
   "source": [
    "import pandas as pd\n",
    "\n",
    "k = 0\n",
    "original_or_sam = \"original\"\n",
    "# show an image\n",
    "image = os.path.join(dataset.test_dirs()[\"test\"], test_info[\"paths\"][k])\n",
    "labels = dataset.class_names()[test_info[\"labels\"][k][0]]\n",
    "bbox = test_info[\"bboxes\"][k]\n",
    "seg_mask = os.path.join(dataset.test_dirs()[\"segmentations\"], original_or_sam, test_info[\"masks\"][\"original\"][\"paths\"][k][0])\n",
    "partlocs = test_info[\"partlocs\"][k]\n",
    "partnames = dataset.part_names()\n",
    "attributes = test_info[\"attributes\"][k]\n",
    "attributnames = dataset.attribute_names()\n",
    "\n",
    "# show the image\n",
    "fig, ax = plt.subplots(1, 3, figsize=(figure_width * 3, figure_height))\n",
    "# ax[0].imshow(plt.imread(image))\n",
    "# ax[0].set_title(f\"{labels.split('.')[1].replace('_', ' ')}\")\n",
    "ax[0].imshow(plt.imread(image))\n",
    "ax[1].imshow(plt.imread(image))\n",
    "ax[2].imshow(plt.imread(seg_mask))\n",
    "ax[2].set_title(\"Segmentation Mask\")\n",
    "\n",
    "# Create a table for part names and their coordinates\n",
    "part_names_coords = []\n",
    "for key, points in partlocs.items():\n",
    "    part_names_coords.append([partnames[key], points[0], points[1]])\n",
    "\n",
    "part_names_df = pd.DataFrame(part_names_coords, columns=[\"Part Name\", \"X Coordinate\", \"Y Coordinate\"])\n",
    "print(part_names_df)\n",
    "\n",
    "for i, points in enumerate(partlocs.values()):\n",
    "    ax[1].scatter(points[0], points[1], s=10, c='r', marker='o')\n",
    "    ax[1].set_title(\"Part Locations\")\n",
    "\n",
    "for bbox in test_info[\"bboxes\"][k]:\n",
    "    x_min, y_min, x_max, y_max = bbox\n",
    "    rect = patches.Rectangle((x_min, y_min), x_max - x_min, y_max - y_min, linewidth=1, edgecolor='r', facecolor='none')\n",
    "    ax[0].add_patch(rect)\n",
    "    ax[0].set_title(\"Bounding Box\")\n",
    "\n",
    "for ax_ in ax:\n",
    "    ax_.axis('off')"
   ]
  }
 ],
 "metadata": {
  "kernelspec": {
   "display_name": "torch",
   "language": "python",
   "name": "python3"
  },
  "language_info": {
   "codemirror_mode": {
    "name": "ipython",
    "version": 3
   },
   "file_extension": ".py",
   "mimetype": "text/x-python",
   "name": "python",
   "nbconvert_exporter": "python",
   "pygments_lexer": "ipython3",
   "version": "3.12.1"
  }
 },
 "nbformat": 4,
 "nbformat_minor": 2
}
