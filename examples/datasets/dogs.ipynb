{
 "cells": [
  {
   "cell_type": "markdown",
   "metadata": {},
   "source": [
    "# DOGS"
   ]
  },
  {
   "cell_type": "code",
   "execution_count": null,
   "metadata": {},
   "outputs": [],
   "source": [
    "import os\n",
    "\n",
    "\n",
    "import quanproto.datasets.config_parser as quan_dataloader\n",
    "import matplotlib.pyplot as plt\n",
    "import matplotlib.patches as patches\n",
    "import numpy as np\n",
    "from quanproto.eda import eda\n",
    "from quanproto.utils.workspace import *"
   ]
  },
  {
   "cell_type": "code",
   "execution_count": null,
   "metadata": {},
   "outputs": [],
   "source": [
    "config = {\n",
    "    \"dataset_dir\": DATASET_DIR,\n",
    "    \"dataset\" : \"dogs\",\n",
    "}\n",
    "\n",
    "figure_height = 5\n",
    "figure_width = 8"
   ]
  },
  {
   "cell_type": "markdown",
   "metadata": {},
   "source": [
    "## Create the Dataset"
   ]
  },
  {
   "cell_type": "code",
   "execution_count": null,
   "metadata": {},
   "outputs": [],
   "source": [
    "dataset = quan_dataloader.get_dataset(config[\"dataset_dir\"], config[\"dataset\"])\n",
    "\n",
    "if not dataset.has_splits():\n",
    "    dataset.split_dataset(predefined=True)\n",
    "test_info = dataset.test_info()"
   ]
  },
  {
   "cell_type": "code",
   "execution_count": null,
   "metadata": {},
   "outputs": [],
   "source": [
    "log_dir = os.path.join(WORKSPACE_PATH, \"experiments/dogs/all\")\n",
    "os.makedirs(log_dir, exist_ok=True)\n",
    "\n",
    "sample_labels = np.array(list(dataset.sample_labels().values()))\n",
    "sample_dir = dataset.sample_dir()\n",
    "\n",
    "# Make all image statistics\n",
    "sample_class_labels = np.array(list(dataset.sample_labels().values()))\n",
    "sample_dir = dataset.sample_dir()"
   ]
  },
  {
   "cell_type": "code",
   "execution_count": null,
   "metadata": {},
   "outputs": [],
   "source": [
    "# Class Statistics\n",
    "overview = eda.class_statistics(sample_class_labels)\n",
    "overview"
   ]
  },
  {
   "cell_type": "code",
   "execution_count": null,
   "metadata": {},
   "outputs": [],
   "source": [
    "# Class Distribution\n",
    "counts, labels = eda.class_histogram(sample_class_labels)\n",
    "fig, ax = plt.subplots(figsize=(figure_width, figure_height))\n",
    "ax.plot(labels, counts)\n",
    "plt.show()"
   ]
  },
  {
   "cell_type": "code",
   "execution_count": null,
   "metadata": {},
   "outputs": [],
   "source": [
    "# Image Histograms\n",
    "counts, vals = eda.color_histogram(sample_dir)\n",
    "norm_counts = counts / np.sum(counts, axis=1, keepdims=True)\n",
    "_, ax = plt.subplots(figsize=(figure_width, figure_height))\n",
    "colors = [\"red\", \"green\", \"blue\", \"black\"]\n",
    "labels = [\"Red\", \"Green\", \"Blue\", \"Exposure\"]\n",
    "\n",
    "for i in range(4):\n",
    "    ax.plot(vals, norm_counts[i], color=colors[i], label=labels[i])\n",
    "\n",
    "ax.set_title(\"Color Histograms\")\n",
    "ax.set_xlabel(\"Pixel Value\")\n",
    "ax.set_ylabel(\"Frequency\")\n",
    "ax.legend()\n",
    "plt.show()"
   ]
  },
  {
   "cell_type": "code",
   "execution_count": null,
   "metadata": {},
   "outputs": [],
   "source": [
    "# Image Statistics\n",
    "statistics = eda.color_statistics(counts, vals)\n",
    "statistics"
   ]
  },
  {
   "cell_type": "code",
   "execution_count": null,
   "metadata": {},
   "outputs": [],
   "source": [
    "k = 31\n",
    "# show an image\n",
    "image = os.path.join(dataset.test_dirs()[\"test\"], test_info[\"paths\"][k])\n",
    "labels = dataset.class_names()[test_info[\"labels\"][k][0]]\n",
    "\n",
    "# show the image\n",
    "fig, ax = plt.subplots(1, 2, figsize=(figure_width * 2, figure_height))\n",
    "ax[0].imshow(plt.imread(image))\n",
    "ax[1].imshow(plt.imread(image))\n",
    "\n",
    "for bbox in test_info[\"bboxes\"][k]:\n",
    "    x_min, y_min, x_max, y_max = bbox\n",
    "    rect = patches.Rectangle((x_min, y_min), x_max - x_min, y_max - y_min, linewidth=1, edgecolor='r', facecolor='none')\n",
    "    ax[0].add_patch(rect)\n",
    "    ax[0].set_title(\"Bounding Box\")\n"
   ]
  }
 ],
 "metadata": {
  "kernelspec": {
   "display_name": "torch",
   "language": "python",
   "name": "python3"
  },
  "language_info": {
   "codemirror_mode": {
    "name": "ipython",
    "version": 3
   },
   "file_extension": ".py",
   "mimetype": "text/x-python",
   "name": "python",
   "nbconvert_exporter": "python",
   "pygments_lexer": "ipython3",
   "version": "3.12.1"
  }
 },
 "nbformat": 4,
 "nbformat_minor": 2
}
