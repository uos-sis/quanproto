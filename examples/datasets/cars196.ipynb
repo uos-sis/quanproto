{
 "cells": [
  {
   "cell_type": "markdown",
   "metadata": {},
   "source": [
    "# Stanford Cars"
   ]
  },
  {
   "cell_type": "code",
   "execution_count": null,
   "metadata": {},
   "outputs": [],
   "source": [
    "import os\n",
    "import sys\n",
    "\n",
    "import quanproto.datasets.config_parser as quan_dataloader\n",
    "import matplotlib.pyplot as plt\n",
    "import matplotlib.patches as patches\n",
    "import numpy as np\n",
    "from quanproto.eda import eda\n",
    "from quanproto.utils.workspace import *"
   ]
  },
  {
   "cell_type": "code",
   "execution_count": null,
   "metadata": {},
   "outputs": [],
   "source": [
    "config = {\n",
    "    \"dataset_dir\": DATASET_DIR,\n",
    "    \"dataset\" : \"cars196\",\n",
    "}\n",
    "figure_height = 5\n",
    "figure_width = 8"
   ]
  },
  {
   "cell_type": "markdown",
   "metadata": {},
   "source": [
    "## Create the Dataset"
   ]
  },
  {
   "cell_type": "code",
   "execution_count": null,
   "metadata": {},
   "outputs": [],
   "source": [
    "dataset = quan_dataloader.get_dataset(config[\"dataset_dir\"], config[\"dataset\"])\n",
    "\n",
    "if not dataset.has_splits():\n",
    "    dataset.split_dataset(predefined=True)\n",
    "test_info = dataset.test_info()"
   ]
  },
  {
   "cell_type": "code",
   "execution_count": null,
   "metadata": {},
   "outputs": [],
   "source": [
    "log_dir = os.path.join(WORKSPACE_PATH, \"experiments/cars196/all\")\n",
    "os.makedirs(log_dir, exist_ok=True)\n",
    "\n",
    "sample_labels = np.array(list(dataset.sample_labels().values()))\n",
    "sample_dir = dataset.sample_dir()\n",
    "\n",
    "# Make all image statistics\n",
    "sample_class_labels = np.array(list(dataset.sample_labels().values()))\n",
    "sample_dir = dataset.sample_dir()"
   ]
  },
  {
   "cell_type": "code",
   "execution_count": null,
   "metadata": {},
   "outputs": [],
   "source": [
    "# Class Statistics\n",
    "overview = eda.class_statistics(sample_class_labels)\n",
    "overview"
   ]
  },
  {
   "cell_type": "code",
   "execution_count": null,
   "metadata": {},
   "outputs": [],
   "source": [
    "# Class Distribution\n",
    "counts, labels = eda.class_histogram(sample_class_labels)\n",
    "fig, ax = plt.subplots(figsize=(figure_width, figure_height))\n",
    "ax.plot(labels, counts)\n",
    "plt.show()"
   ]
  },
  {
   "cell_type": "code",
   "execution_count": null,
   "metadata": {},
   "outputs": [],
   "source": [
    "# Image Histograms\n",
    "counts, vals = eda.color_histogram(sample_dir)\n",
    "norm_counts = counts / np.sum(counts, axis=1, keepdims=True)\n",
    "_, ax = plt.subplots(figsize=(figure_width, figure_height))\n",
    "colors = [\"red\", \"green\", \"blue\", \"black\"]\n",
    "labels = [\"Red\", \"Green\", \"Blue\", \"Exposure\"]\n",
    "\n",
    "for i in range(4):\n",
    "    ax.plot(vals, norm_counts[i], color=colors[i], label=labels[i])\n",
    "\n",
    "ax.set_title(\"Color Histograms\")\n",
    "ax.set_xlabel(\"Pixel Value\")\n",
    "ax.set_ylabel(\"Frequency\")\n",
    "ax.legend()\n",
    "plt.show()"
   ]
  },
  {
   "cell_type": "code",
   "execution_count": null,
   "metadata": {},
   "outputs": [],
   "source": [
    "# Image Statistics\n",
    "statistics = eda.color_statistics(counts, vals)\n",
    "statistics"
   ]
  },
  {
   "cell_type": "code",
   "execution_count": null,
   "metadata": {},
   "outputs": [],
   "source": [
    "k1 = 20\n",
    "k2 = 50\n",
    "k3 = 40\n",
    "\n",
    "image1 = os.path.join(dataset.test_dirs()[\"test\"], test_info[\"paths\"][k1])\n",
    "labels1 = dataset.class_names()[test_info[\"labels\"][k1][0]]\n",
    "bbox1 = test_info[\"bboxes\"][k1]\n",
    "\n",
    "image2 = os.path.join(dataset.test_dirs()[\"test\"], test_info[\"paths\"][k2])\n",
    "labels2 = dataset.class_names()[test_info[\"labels\"][k2][0]]\n",
    "bbox2 = test_info[\"bboxes\"][k2]\n",
    "\n",
    "image3 = os.path.join(dataset.test_dirs()[\"test\"], test_info[\"paths\"][k3])\n",
    "labels3 = dataset.class_names()[test_info[\"labels\"][k3][0]]\n",
    "bbox3 = test_info[\"bboxes\"][k3]\n",
    "\n",
    "# show the image\n",
    "fig, ax = plt.subplots(1, 3, figsize=(figure_width*3, figure_height))\n",
    "ax[0].imshow(plt.imread(image1))\n",
    "ax[1].imshow(plt.imread(image2))\n",
    "ax[2].imshow(plt.imread(image3))\n",
    "\n",
    "for i, bbox in enumerate([bbox1[0], bbox2[0], bbox3[0]]):\n",
    "    x_min, y_min, x_max, y_max = bbox\n",
    "    rect = patches.Rectangle((x_min, y_min), x_max - x_min, y_max - y_min, linewidth=1, edgecolor='r', facecolor='none')\n",
    "    ax[i].add_patch(rect)\n",
    "    ax[i].axis('off')\n",
    "\n",
    "plt.tight_layout()"
   ]
  }
 ],
 "metadata": {
  "kernelspec": {
   "display_name": "torch",
   "language": "python",
   "name": "python3"
  },
  "language_info": {
   "codemirror_mode": {
    "name": "ipython",
    "version": 3
   },
   "file_extension": ".py",
   "mimetype": "text/x-python",
   "name": "python",
   "nbconvert_exporter": "python",
   "pygments_lexer": "ipython3",
   "version": "3.12.1"
  }
 },
 "nbformat": 4,
 "nbformat_minor": 2
}
