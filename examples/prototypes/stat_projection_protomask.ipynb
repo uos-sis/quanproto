{
 "cells": [
  {
   "cell_type": "code",
   "execution_count": null,
   "id": "2bbd44cf",
   "metadata": {},
   "outputs": [],
   "source": [
    "from quanproto.evaluation.folder_utils import get_run_info\n",
    "from quanproto.utils.workspace import EXPERIMENTS_PATH, DATASET_DIR\n",
    "import json"
   ]
  },
  {
   "cell_type": "code",
   "execution_count": null,
   "id": "16bdca2c",
   "metadata": {},
   "outputs": [],
   "source": [
    "experiment_config = {\n",
    "    # INFO: All runs in the experiment will be evaluated so if you used multiple datasets you may\n",
    "    # need to extend the experiment name to include the dataset name like PIPNet/cub200\n",
    "    \"experiment_dir\": f\"{EXPERIMENTS_PATH}/ProtoMask/dogs\",\n",
    "    \"dataset_dir\": DATASET_DIR,\n",
    "    \"prototypes_per_class\": 10,\n",
    "}"
   ]
  },
  {
   "cell_type": "code",
   "execution_count": null,
   "id": "60d6087f",
   "metadata": {},
   "outputs": [],
   "source": [
    "run_info = get_run_info(experiment_config)\n",
    "\n",
    "unique_masks_per_class = {}\n",
    "# load each json file\n",
    "for run_name, run in run_info.items():\n",
    "    if \"push_log\" not in run:\n",
    "        print(f\"Run {run_name} does not have a push log.\")\n",
    "    class_push_log = {}\n",
    "    with open(run[\"push_log\"], \"r\") as f:\n",
    "        push_log = json.load(f)\n",
    "        for k, v in push_log.items():\n",
    "            class_index = int(k) // experiment_config[\"prototypes_per_class\"]\n",
    "\n",
    "            if class_index not in class_push_log:\n",
    "                class_push_log[class_index] = [(v[\"img_index\"], v[\"mask_index\"])]\n",
    "            class_push_log[class_index].append((v[\"img_index\"], v[\"mask_index\"]))\n",
    "        \n",
    "        for class_index, masks in class_push_log.items():\n",
    "            if class_index not in unique_masks_per_class:\n",
    "                unique_masks_per_class[class_index] = []\n",
    "            unique_masks_per_class[class_index].append(len(set(masks)))"
   ]
  },
  {
   "cell_type": "code",
   "execution_count": null,
   "id": "554416e0",
   "metadata": {},
   "outputs": [],
   "source": [
    "avg_unique_masks_per_class = []\n",
    "std_unique_masks_per_class = []\n",
    "\n",
    "max_index = 0\n",
    "max_masks = 0\n",
    "\n",
    "for class_index, num_masks in unique_masks_per_class.items():\n",
    "    avg_unique_masks_per_class.append(sum(num_masks) / len(num_masks))\n",
    "    std_unique_masks_per_class.append((max(num_masks) - min(num_masks)) / 2)\n",
    "    if avg_unique_masks_per_class[-1] > max_masks:\n",
    "        max_masks = avg_unique_masks_per_class[-1]\n",
    "        max_index = class_index\n",
    "\n",
    "print(f\"Max unique masks per class: {max_masks} for class index {max_index}\")\n"
   ]
  },
  {
   "cell_type": "code",
   "execution_count": null,
   "id": "9c8cd48d",
   "metadata": {},
   "outputs": [],
   "source": [
    "#plot the results as a graphs with avg and +- std\n",
    "import matplotlib.pyplot as plt\n",
    "\n",
    "plt.figure(figsize=(20, 5))\n",
    "# first line is avg\n",
    "plt.plot(avg_unique_masks_per_class, label='Average Unique Masks per Class', color='green')\n",
    "# second line is avg + std\n",
    "plt.fill_between(range(len(avg_unique_masks_per_class)),\n",
    "                 [avg + std for avg, std in zip(avg_unique_masks_per_class, std_unique_masks_per_class)],\n",
    "                 [avg - std for avg, std in zip(avg_unique_masks_per_class, std_unique_masks_per_class)],\n",
    "                 color='green', alpha=0.2, label='Standard Deviation')\n",
    "# make a grid in the background\n",
    "plt.grid(True, linestyle='--', alpha=0.5)\n",
    "plt.xlabel('Class Index')\n",
    "plt.ylabel('Number of Unique Masks')\n",
    "plt.title('Average Unique Masks per Class with Standard Deviation')\n",
    "# plt.legend()\n",
    "plt.tight_layout()\n",
    "plt.show()"
   ]
  }
 ],
 "metadata": {
  "kernelspec": {
   "display_name": "torch",
   "language": "python",
   "name": "python3"
  },
  "language_info": {
   "codemirror_mode": {
    "name": "ipython",
    "version": 3
   },
   "file_extension": ".py",
   "mimetype": "text/x-python",
   "name": "python",
   "nbconvert_exporter": "python",
   "pygments_lexer": "ipython3",
   "version": "3.12.1"
  }
 },
 "nbformat": 4,
 "nbformat_minor": 5
}
