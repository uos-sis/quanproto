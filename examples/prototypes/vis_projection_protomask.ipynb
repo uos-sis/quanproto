{
 "cells": [
  {
   "cell_type": "markdown",
   "metadata": {},
   "source": [
    "# Visualize Prototypes"
   ]
  },
  {
   "cell_type": "code",
   "execution_count": null,
   "metadata": {},
   "outputs": [],
   "source": [
    "import json\n",
    "import os\n",
    "import numpy as np\n",
    "import quanproto.datasets.config_parser as quan_dataset\n",
    "import matplotlib.pyplot as plt\n",
    "import skimage as ski\n",
    "from quanproto.utils.workspace import DATASET_DIR, EXPERIMENTS_PATH"
   ]
  },
  {
   "cell_type": "code",
   "execution_count": null,
   "metadata": {},
   "outputs": [],
   "source": [
    "push_config = {\n",
    "    \"path\": f\"{EXPERIMENTS_PATH}/ProtoMask/dogs/protomask_photometric/medium_medium/resnet50/fold_0/models/elegant-river-162/push_log_epoch_100.json\",\n",
    "}\n",
    "\n",
    "config = {\n",
    "    \"dataset_dir\": DATASET_DIR,\n",
    "    \"dataset\": \"dogs\",\n",
    "    \"fold_idx\": 0,\n",
    "    \"seg_method\": \"sam2\",\n",
    "}\n",
    "\n",
    "# we used 10 prototypes per class on the CUB200 dataset\n",
    "proto_ids = [i for i in range(60, 70)]"
   ]
  },
  {
   "cell_type": "code",
   "execution_count": null,
   "metadata": {},
   "outputs": [],
   "source": [
    "# load the json file\n",
    "with open(push_config[\"path\"], \"r\") as file:\n",
    "    push_log = json.load(file)"
   ]
  },
  {
   "cell_type": "code",
   "execution_count": null,
   "metadata": {},
   "outputs": [],
   "source": [
    "dataset = quan_dataset.get_dataset(config[\"dataset_dir\"], config[\"dataset\"])\n",
    "root_img_dir = os.path.join(dataset.fold_dirs(config[\"fold_idx\"])[\"train\"])\n",
    "root_mask_dir = os.path.join(dataset.fold_dirs(config[\"fold_idx\"])[\"train_segmentations\"], config[\"seg_method\"])\n",
    "print(\"root_img_dir\", root_img_dir)\n",
    "print(\"root_mask_dir\", root_mask_dir)\n",
    "\n",
    "data_info = dataset.fold_info(config[\"fold_idx\"], \"train\")\n",
    "img_paths = data_info[\"paths\"]\n",
    "mask_paths = data_info[\"masks\"][config[\"seg_method\"]][\"paths\"]\n",
    "# only with cub200 and cars196\n",
    "bbox = None\n",
    "if \"bboxes\" in data_info:\n",
    "    bbox = data_info[\"masks\"][config[\"seg_method\"]][\"bounding_boxes\"]"
   ]
  },
  {
   "cell_type": "code",
   "execution_count": null,
   "metadata": {},
   "outputs": [],
   "source": [
    "# make a 5x2 grid of images\n",
    "fig, axs = plt.subplots(2, 5, figsize=(20, 10))\n",
    "for i, proto_id in enumerate(proto_ids):\n",
    "    img_index = push_log[str(proto_id)][\"img_index\"]\n",
    "    mask_idx = push_log[str(proto_id)][\"mask_index\"]\n",
    "    img_path = img_paths[img_index]\n",
    "    mask_path = mask_paths[img_index][mask_idx]\n",
    "    img = ski.io.imread(os.path.join(root_img_dir, img_path))\n",
    "    mask = ski.io.imread(os.path.join(root_mask_dir, mask_path))\n",
    "    # crop the image to the bounding box\n",
    "    if bbox is not None:\n",
    "        min_w = int(bbox[img_index][mask_idx][0])\n",
    "        min_h = int(bbox[img_index][mask_idx][1])\n",
    "        max_w = int(bbox[img_index][mask_idx][2])\n",
    "        max_h = int(bbox[img_index][mask_idx][3])\n",
    "        # img = img[min_h:max_h, min_w:max_w]\n",
    "        # mask = mask[min_h:max_h, min_w:max_w]\n",
    "\n",
    "    # resize the image to 224x224\n",
    "    # img = ski.transform.resize(img, (224, 224))\n",
    "    # mask = ski.transform.resize(mask, (224, 224))\n",
    "\n",
    "    axs[i // 5, i % 5].imshow(img)\n",
    "    axs[i // 5, i % 5].set_title(f\"Proto {proto_id}\")\n",
    "    axs[i // 5, i % 5].axis(\"off\")\n",
    "\n",
    "    # draw the patch\n",
    "    rect = plt.Rectangle((min_w, min_h), max_w - min_w, max_h - min_h, edgecolor=\"r\", facecolor=\"none\")\n",
    "    axs[i // 5, i % 5].add_patch(rect) \n"
   ]
  }
 ],
 "metadata": {
  "kernelspec": {
   "display_name": "torch",
   "language": "python",
   "name": "python3"
  },
  "language_info": {
   "codemirror_mode": {
    "name": "ipython",
    "version": 3
   },
   "file_extension": ".py",
   "mimetype": "text/x-python",
   "name": "python",
   "nbconvert_exporter": "python",
   "pygments_lexer": "ipython3",
   "version": "3.12.1"
  }
 },
 "nbformat": 4,
 "nbformat_minor": 2
}
