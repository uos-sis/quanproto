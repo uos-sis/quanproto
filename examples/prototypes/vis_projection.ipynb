{
 "cells": [
  {
   "cell_type": "markdown",
   "metadata": {},
   "source": [
    "# Visualize Prototypes"
   ]
  },
  {
   "cell_type": "code",
   "execution_count": null,
   "metadata": {},
   "outputs": [],
   "source": [
    "import json\n",
    "import os\n",
    "import numpy as np\n",
    "import quanproto.datasets.config_parser as quan_dataset\n",
    "import matplotlib.pyplot as plt\n",
    "import skimage as ski\n",
    "from quanproto.utils.workspace import DATASET_DIR"
   ]
  },
  {
   "cell_type": "code",
   "execution_count": null,
   "metadata": {},
   "outputs": [],
   "source": [
    "push_config = {\n",
    "    \"path\": \"/home/pschlinge/repos/quanproto/experiments/ProtoPNet/cub200/geometric_photometric/medium_medium/resnet50/fold_0/models/ocean-elegant-908/push_log_epoch_110.json\",\n",
    "}\n",
    "\n",
    "config = {\n",
    "    \"dataset_dir\": DATASET_DIR,\n",
    "    \"dataset\": \"cub200\",\n",
    "    \"fold_idx\": 0,\n",
    "}\n",
    "\n",
    "# we used 10 prototypes per class on the CUB200 dataset\n",
    "proto_ids = [0, 1, 2, 3, 4, 5, 6, 7, 8, 9]"
   ]
  },
  {
   "cell_type": "code",
   "execution_count": null,
   "metadata": {},
   "outputs": [],
   "source": [
    "# load the json file\n",
    "with open(push_config[\"path\"], \"r\") as file:\n",
    "    push_log = json.load(file)"
   ]
  },
  {
   "cell_type": "code",
   "execution_count": null,
   "metadata": {},
   "outputs": [],
   "source": [
    "dataset = quan_dataset.get_dataset(config[\"dataset_dir\"], config[\"dataset\"])\n",
    "root_dir = os.path.join(dataset.fold_dirs(config[\"fold_idx\"])[\"train\"])\n",
    "data_info = dataset.fold_info(config[\"fold_idx\"], \"train\")\n",
    "img_paths = data_info[\"paths\"]\n",
    "# only with cub200 and cars196\n",
    "bbox = None\n",
    "if \"bboxes\" in data_info:\n",
    "    bbox = data_info[\"bboxes\"]"
   ]
  },
  {
   "cell_type": "code",
   "execution_count": null,
   "metadata": {},
   "outputs": [],
   "source": [
    "# make a 5x2 grid of images\n",
    "fig, axs = plt.subplots(2, 5, figsize=(20, 10))\n",
    "for i, proto_id in enumerate(proto_ids):\n",
    "    img_index = push_log[str(proto_id)][\"img_id\"]\n",
    "    patch_idx = push_log[str(proto_id)][\"patch_index\"] # min_w, min_h, max_w, max_h\n",
    "    img_path = img_paths[img_index]\n",
    "    img = ski.io.imread(os.path.join(root_dir, img_path))\n",
    "    # crop the image to the bounding box\n",
    "    if bbox is not None:\n",
    "        min_w = int(bbox[img_index][0][0])\n",
    "        min_h = int(bbox[img_index][0][1])\n",
    "        max_w = int(bbox[img_index][0][2])\n",
    "        max_h = int(bbox[img_index][0][3])\n",
    "        img = img[min_h:max_h, min_w:max_w]\n",
    "\n",
    "    # resize the image to 224x224\n",
    "    img = ski.transform.resize(img, (224, 224))\n",
    "    # 7x7 patch index to pixel index\n",
    "    min_w = patch_idx[0] * 32\n",
    "    min_h = patch_idx[1] * 32\n",
    "    max_w = patch_idx[2] * 32\n",
    "    max_h = patch_idx[3] * 32\n",
    "\n",
    "    axs[i // 5, i % 5].imshow(img)\n",
    "    axs[i // 5, i % 5].set_title(f\"Proto {proto_id}\")\n",
    "    axs[i // 5, i % 5].axis(\"off\")\n",
    "\n",
    "    # draw the patch\n",
    "    rect = plt.Rectangle((min_w, min_h), max_w - min_w, max_h - min_h, edgecolor=\"r\", facecolor=\"none\")\n",
    "    axs[i // 5, i % 5].add_patch(rect) \n"
   ]
  }
 ],
 "metadata": {
  "kernelspec": {
   "display_name": "torch",
   "language": "python",
   "name": "python3"
  },
  "language_info": {
   "codemirror_mode": {
    "name": "ipython",
    "version": 3
   },
   "file_extension": ".py",
   "mimetype": "text/x-python",
   "name": "python",
   "nbconvert_exporter": "python",
   "pygments_lexer": "ipython3",
   "version": "3.12.1"
  }
 },
 "nbformat": 4,
 "nbformat_minor": 2
}
